{
  "nbformat": 4,
  "nbformat_minor": 0,
  "metadata": {
    "colab": {
      "name": "equation_check.ipynb",
      "provenance": [],
      "collapsed_sections": [],
      "authorship_tag": "ABX9TyOoe5QLSYQcoCop8spFV12X",
      "include_colab_link": true
    },
    "kernelspec": {
      "name": "python3",
      "display_name": "Python 3"
    }
  },
  "cells": [
    {
      "cell_type": "markdown",
      "metadata": {
        "id": "view-in-github",
        "colab_type": "text"
      },
      "source": [
        "<a href=\"https://colab.research.google.com/github/prakashd1/ml-experiments/blob/master/equation_check.ipynb\" target=\"_parent\"><img src=\"https://colab.research.google.com/assets/colab-badge.svg\" alt=\"Open In Colab\"/></a>"
      ]
    },
    {
      "cell_type": "code",
      "metadata": {
        "id": "Ijt7vRqTiehr",
        "colab_type": "code",
        "colab": {}
      },
      "source": [
        "import tensorflow as tf\n",
        "import numpy as np\n",
        "import pandas as pd\n",
        "from pylab import rcParams\n",
        "import matplotlib.pyplot as plt\n",
        "import warnings\n",
        "from sklearn.model_selection import train_test_split"
      ],
      "execution_count": null,
      "outputs": []
    },
    {
      "cell_type": "code",
      "metadata": {
        "id": "V5hbHX5X7yNS",
        "colab_type": "code",
        "colab": {}
      },
      "source": [
        "%matplotlib inline\n",
        "warnings.filterwarnings(\"ignore\")\n",
        "pd.set_option('display.expand_frame_repr', False)\n",
        "rcParams['figure.figsize'] = 16, 8"
      ],
      "execution_count": null,
      "outputs": []
    },
    {
      "cell_type": "code",
      "metadata": {
        "id": "667ioeSa74x0",
        "colab_type": "code",
        "colab": {}
      },
      "source": [
        "df = pd.DataFrame({\"x\":[], \"y\":[], \"z\":[]}) "
      ],
      "execution_count": null,
      "outputs": []
    },
    {
      "cell_type": "code",
      "metadata": {
        "id": "YbNKXLym8RAe",
        "colab_type": "code",
        "colab": {}
      },
      "source": [
        "for i in range(1,100):\n",
        "  df=df.append({\"x\": i , \"y\" : i*2+5},ignore_index=True)"
      ],
      "execution_count": null,
      "outputs": []
    },
    {
      "cell_type": "code",
      "metadata": {
        "id": "Y5LKvIaHCOkX",
        "colab_type": "code",
        "colab": {}
      },
      "source": [
        "x_train, x_test, y_train, y_test = train_test_split(df[\"x\"], df[\"y\"], train_size=0.65,test_size=0.35, random_state=101)"
      ],
      "execution_count": null,
      "outputs": []
    },
    {
      "cell_type": "code",
      "metadata": {
        "id": "Edhx-jWS9EXY",
        "colab_type": "code",
        "colab": {
          "base_uri": "https://localhost:8080/",
          "height": 483
        },
        "outputId": "9449fbe4-cb9b-48a5-8d90-8b56ec6f7f53"
      },
      "source": [
        "plt.scatter(df[\"x\"], df[\"y\"])\n",
        "plt.show()"
      ],
      "execution_count": null,
      "outputs": [
        {
          "output_type": "display_data",
          "data": {
            "image/png": "[encoded data removed]",
            "text/plain": [
              "<Figure size 1152x576 with 1 Axes>"
            ]
          },
          "metadata": {
            "tags": [],
            "needs_background": "light"
          }
        }
      ]
    },
    {
      "cell_type": "code",
      "metadata": {
        "id": "Lp_D6NHZ9pCg",
        "colab_type": "code",
        "colab": {}
      },
      "source": [
        "model = tf.keras.Sequential()\n",
        "model.add(tf.keras.layers.Dense(1, input_shape=[1]))\n",
        "model.compile(loss='mean_squared_error', optimizer=tf.keras.optimizers.Adam(0.01))"
      ],
      "execution_count": null,
      "outputs": []
    },
    {
      "cell_type": "code",
      "metadata": {
        "id": "wnlMLCNo9sSQ",
        "colab_type": "code",
        "colab": {
          "base_uri": "https://localhost:8080/",
          "height": 185
        },
        "outputId": "526f09b3-7cdf-4583-ba81-8432b162b8c7"
      },
      "source": [
        "model.summary()"
      ],
      "execution_count": null,
      "outputs": [
        {
          "output_type": "stream",
          "text": [
            "Model: \"sequential_1\"\n",
            "_________________________________________________________________\n",
            "Layer (type)                 Output Shape              Param #   \n",
            "=================================================================\n",
            "dense_1 (Dense)              (None, 1)                 2         \n",
            "=================================================================\n",
            "Total params: 2\n",
            "Trainable params: 2\n",
            "Non-trainable params: 0\n",
            "_________________________________________________________________\n"
          ],
          "name": "stdout"
        }
      ]
    },
    {
      "cell_type": "code",
      "metadata": {
        "id": "4qM5GlAx9vgD",
        "colab_type": "code",
        "colab": {
          "base_uri": "https://localhost:8080/",
          "height": 1000
        },
        "outputId": "ccc5efd6-1650-4180-b03f-94bb5c671643"
      },
      "source": [
        "history = model.fit(x_train, y_train, epochs=200)"
      ],
      "execution_count": null,
      "outputs": [
        {
          "output_type": "stream",
          "text": [
            "Epoch 1/200\n",
            "2/2 [==============================] - 0s 2ms/step - loss: 18789.2422\n",
            "Epoch 2/200\n",
            "2/2 [==============================] - 0s 3ms/step - loss: 18464.1875\n",
            "Epoch 3/200\n",
            "2/2 [==============================] - 0s 1ms/step - loss: 18129.9316\n",
            "Epoch 4/200\n",
            "2/2 [==============================] - 0s 1ms/step - loss: 17804.5742\n",
            "Epoch 5/200\n",
            "2/2 [==============================] - 0s 2ms/step - loss: 17507.4824\n",
            "Epoch 6/200\n",
            "2/2 [==============================] - 0s 1ms/step - loss: 17186.4844\n",
            "Epoch 7/200\n",
            "2/2 [==============================] - 0s 4ms/step - loss: 16878.9707\n",
            "Epoch 8/200\n",
            "2/2 [==============================] - 0s 2ms/step - loss: 16572.1094\n",
            "Epoch 9/200\n",
            "2/2 [==============================] - 0s 2ms/step - loss: 16252.7500\n",
            "Epoch 10/200\n",
            "2/2 [==============================] - 0s 2ms/step - loss: 15961.4727\n",
            "Epoch 11/200\n",
            "2/2 [==============================] - 0s 2ms/step - loss: 15659.7852\n",
            "Epoch 12/200\n",
            "2/2 [==============================] - 0s 2ms/step - loss: 15387.3223\n",
            "Epoch 13/200\n",
            "2/2 [==============================] - 0s 1ms/step - loss: 15098.8418\n",
            "Epoch 14/200\n",
            "2/2 [==============================] - 0s 1ms/step - loss: 14807.3018\n",
            "Epoch 15/200\n",
            "2/2 [==============================] - 0s 2ms/step - loss: 14516.4785\n",
            "Epoch 16/200\n",
            "2/2 [==============================] - 0s 2ms/step - loss: 14242.4287\n",
            "Epoch 17/200\n",
            "2/2 [==============================] - 0s 4ms/step - loss: 13975.2275\n",
            "Epoch 18/200\n",
            "2/2 [==============================] - 0s 1ms/step - loss: 13713.3232\n",
            "Epoch 19/200\n",
            "2/2 [==============================] - 0s 1ms/step - loss: 13425.5840\n",
            "Epoch 20/200\n",
            "2/2 [==============================] - 0s 1ms/step - loss: 13161.5732\n",
            "Epoch 21/200\n",
            "2/2 [==============================] - 0s 1ms/step - loss: 12922.7070\n",
            "Epoch 22/200\n",
            "2/2 [==============================] - 0s 1ms/step - loss: 12649.7480\n",
            "Epoch 23/200\n",
            "2/2 [==============================] - 0s 1ms/step - loss: 12404.7266\n",
            "Epoch 24/200\n",
            "2/2 [==============================] - 0s 1ms/step - loss: 12170.1738\n",
            "Epoch 25/200\n",
            "2/2 [==============================] - 0s 1ms/step - loss: 11919.7539\n",
            "Epoch 26/200\n",
            "2/2 [==============================] - 0s 1ms/step - loss: 11682.3545\n",
            "Epoch 27/200\n",
            "2/2 [==============================] - 0s 2ms/step - loss: 11447.6924\n",
            "Epoch 28/200\n",
            "2/2 [==============================] - 0s 2ms/step - loss: 11211.3896\n",
            "Epoch 29/200\n",
            "2/2 [==============================] - 0s 1ms/step - loss: 10992.4785\n",
            "Epoch 30/200\n",
            "2/2 [==============================] - 0s 1ms/step - loss: 10748.3350\n",
            "Epoch 31/200\n",
            "2/2 [==============================] - 0s 2ms/step - loss: 10532.0801\n",
            "Epoch 32/200\n",
            "2/2 [==============================] - 0s 2ms/step - loss: 10316.8086\n",
            "Epoch 33/200\n",
            "2/2 [==============================] - 0s 2ms/step - loss: 10106.5967\n",
            "Epoch 34/200\n",
            "2/2 [==============================] - 0s 1ms/step - loss: 9889.1084\n",
            "Epoch 35/200\n",
            "2/2 [==============================] - 0s 2ms/step - loss: 9693.4961\n",
            "Epoch 36/200\n",
            "2/2 [==============================] - 0s 1ms/step - loss: 9478.3428\n",
            "Epoch 37/200\n",
            "2/2 [==============================] - 0s 2ms/step - loss: 9276.8252\n",
            "Epoch 38/200\n",
            "2/2 [==============================] - 0s 1ms/step - loss: 9082.1328\n",
            "Epoch 39/200\n",
            "2/2 [==============================] - 0s 1ms/step - loss: 8886.9004\n",
            "Epoch 40/200\n",
            "2/2 [==============================] - 0s 1ms/step - loss: 8700.6133\n",
            "Epoch 41/200\n",
            "2/2 [==============================] - 0s 1ms/step - loss: 8512.9238\n",
            "Epoch 42/200\n",
            "2/2 [==============================] - 0s 2ms/step - loss: 8320.3418\n",
            "Epoch 43/200\n",
            "2/2 [==============================] - 0s 1ms/step - loss: 8140.0767\n",
            "Epoch 44/200\n",
            "2/2 [==============================] - 0s 2ms/step - loss: 7963.9800\n",
            "Epoch 45/200\n",
            "2/2 [==============================] - 0s 1ms/step - loss: 7784.0684\n",
            "Epoch 46/200\n",
            "2/2 [==============================] - 0s 1ms/step - loss: 7613.9121\n",
            "Epoch 47/200\n",
            "2/2 [==============================] - 0s 2ms/step - loss: 7447.5996\n",
            "Epoch 48/200\n",
            "2/2 [==============================] - 0s 1ms/step - loss: 7284.4873\n",
            "Epoch 49/200\n",
            "2/2 [==============================] - 0s 1ms/step - loss: 7107.1299\n",
            "Epoch 50/200\n",
            "2/2 [==============================] - 0s 2ms/step - loss: 6951.3262\n",
            "Epoch 51/200\n",
            "2/2 [==============================] - 0s 2ms/step - loss: 6795.0449\n",
            "Epoch 52/200\n",
            "2/2 [==============================] - 0s 2ms/step - loss: 6643.8276\n",
            "Epoch 53/200\n",
            "2/2 [==============================] - 0s 1ms/step - loss: 6491.1851\n",
            "Epoch 54/200\n",
            "2/2 [==============================] - 0s 2ms/step - loss: 6345.6670\n",
            "Epoch 55/200\n",
            "2/2 [==============================] - 0s 2ms/step - loss: 6194.0010\n",
            "Epoch 56/200\n",
            "2/2 [==============================] - 0s 1ms/step - loss: 6051.3628\n",
            "Epoch 57/200\n",
            "2/2 [==============================] - 0s 2ms/step - loss: 5911.5454\n",
            "Epoch 58/200\n",
            "2/2 [==============================] - 0s 1ms/step - loss: 5778.3691\n",
            "Epoch 59/200\n",
            "2/2 [==============================] - 0s 1ms/step - loss: 5633.4341\n",
            "Epoch 60/200\n",
            "2/2 [==============================] - 0s 2ms/step - loss: 5499.9893\n",
            "Epoch 61/200\n",
            "2/2 [==============================] - 0s 2ms/step - loss: 5370.5723\n",
            "Epoch 62/200\n",
            "2/2 [==============================] - 0s 2ms/step - loss: 5240.4160\n",
            "Epoch 63/200\n",
            "2/2 [==============================] - 0s 2ms/step - loss: 5115.5820\n",
            "Epoch 64/200\n",
            "2/2 [==============================] - 0s 2ms/step - loss: 4997.0923\n",
            "Epoch 65/200\n",
            "2/2 [==============================] - 0s 1ms/step - loss: 4867.9429\n",
            "Epoch 66/200\n",
            "2/2 [==============================] - 0s 2ms/step - loss: 4752.8623\n",
            "Epoch 67/200\n",
            "2/2 [==============================] - 0s 1ms/step - loss: 4631.2510\n",
            "Epoch 68/200\n",
            "2/2 [==============================] - 0s 1ms/step - loss: 4525.9814\n",
            "Epoch 69/200\n",
            "2/2 [==============================] - 0s 1ms/step - loss: 4413.3423\n",
            "Epoch 70/200\n",
            "2/2 [==============================] - 0s 2ms/step - loss: 4298.8960\n",
            "Epoch 71/200\n",
            "2/2 [==============================] - 0s 2ms/step - loss: 4193.7021\n",
            "Epoch 72/200\n",
            "2/2 [==============================] - 0s 2ms/step - loss: 4089.5288\n",
            "Epoch 73/200\n",
            "2/2 [==============================] - 0s 2ms/step - loss: 3985.1108\n",
            "Epoch 74/200\n",
            "2/2 [==============================] - 0s 2ms/step - loss: 3889.0754\n",
            "Epoch 75/200\n",
            "2/2 [==============================] - 0s 2ms/step - loss: 3792.7725\n",
            "Epoch 76/200\n",
            "2/2 [==============================] - 0s 2ms/step - loss: 3691.0625\n",
            "Epoch 77/200\n",
            "2/2 [==============================] - 0s 2ms/step - loss: 3596.0537\n",
            "Epoch 78/200\n",
            "2/2 [==============================] - 0s 2ms/step - loss: 3504.0933\n",
            "Epoch 79/200\n",
            "2/2 [==============================] - 0s 2ms/step - loss: 3415.1897\n",
            "Epoch 80/200\n",
            "2/2 [==============================] - 0s 2ms/step - loss: 3323.2114\n",
            "Epoch 81/200\n",
            "2/2 [==============================] - 0s 2ms/step - loss: 3235.6270\n",
            "Epoch 82/200\n",
            "2/2 [==============================] - 0s 2ms/step - loss: 3155.2471\n",
            "Epoch 83/200\n",
            "2/2 [==============================] - 0s 2ms/step - loss: 3070.8931\n",
            "Epoch 84/200\n",
            "2/2 [==============================] - 0s 2ms/step - loss: 2987.8354\n",
            "Epoch 85/200\n",
            "2/2 [==============================] - 0s 2ms/step - loss: 2911.2432\n",
            "Epoch 86/200\n",
            "2/2 [==============================] - 0s 2ms/step - loss: 2832.9236\n",
            "Epoch 87/200\n",
            "2/2 [==============================] - 0s 3ms/step - loss: 2757.1404\n",
            "Epoch 88/200\n",
            "2/2 [==============================] - 0s 2ms/step - loss: 2682.2170\n",
            "Epoch 89/200\n",
            "2/2 [==============================] - 0s 2ms/step - loss: 2607.5322\n",
            "Epoch 90/200\n",
            "2/2 [==============================] - 0s 1ms/step - loss: 2535.1558\n",
            "Epoch 91/200\n",
            "2/2 [==============================] - 0s 2ms/step - loss: 2467.1145\n",
            "Epoch 92/200\n",
            "2/2 [==============================] - 0s 1ms/step - loss: 2400.7854\n",
            "Epoch 93/200\n",
            "2/2 [==============================] - 0s 2ms/step - loss: 2336.3428\n",
            "Epoch 94/200\n",
            "2/2 [==============================] - 0s 2ms/step - loss: 2270.4021\n",
            "Epoch 95/200\n",
            "2/2 [==============================] - 0s 3ms/step - loss: 2204.1973\n",
            "Epoch 96/200\n",
            "2/2 [==============================] - 0s 2ms/step - loss: 2144.8186\n",
            "Epoch 97/200\n",
            "2/2 [==============================] - 0s 2ms/step - loss: 2085.0410\n",
            "Epoch 98/200\n",
            "2/2 [==============================] - 0s 2ms/step - loss: 2027.3113\n",
            "Epoch 99/200\n",
            "2/2 [==============================] - 0s 1ms/step - loss: 1970.5010\n",
            "Epoch 100/200\n",
            "2/2 [==============================] - 0s 2ms/step - loss: 1915.0793\n",
            "Epoch 101/200\n",
            "2/2 [==============================] - 0s 1ms/step - loss: 1859.0367\n",
            "Epoch 102/200\n",
            "2/2 [==============================] - 0s 2ms/step - loss: 1806.4877\n",
            "Epoch 103/200\n",
            "2/2 [==============================] - 0s 2ms/step - loss: 1751.6689\n",
            "Epoch 104/200\n",
            "2/2 [==============================] - 0s 2ms/step - loss: 1700.5004\n",
            "Epoch 105/200\n",
            "2/2 [==============================] - 0s 2ms/step - loss: 1650.8496\n",
            "Epoch 106/200\n",
            "2/2 [==============================] - 0s 2ms/step - loss: 1605.5208\n",
            "Epoch 107/200\n",
            "2/2 [==============================] - 0s 1ms/step - loss: 1559.0604\n",
            "Epoch 108/200\n",
            "2/2 [==============================] - 0s 1ms/step - loss: 1510.9377\n",
            "Epoch 109/200\n",
            "2/2 [==============================] - 0s 1ms/step - loss: 1466.0593\n",
            "Epoch 110/200\n",
            "2/2 [==============================] - 0s 1ms/step - loss: 1423.3274\n",
            "Epoch 111/200\n",
            "2/2 [==============================] - 0s 1ms/step - loss: 1381.9800\n",
            "Epoch 112/200\n",
            "2/2 [==============================] - 0s 2ms/step - loss: 1339.1309\n",
            "Epoch 113/200\n",
            "2/2 [==============================] - 0s 2ms/step - loss: 1298.7760\n",
            "Epoch 114/200\n",
            "2/2 [==============================] - 0s 2ms/step - loss: 1259.3784\n",
            "Epoch 115/200\n",
            "2/2 [==============================] - 0s 2ms/step - loss: 1222.5720\n",
            "Epoch 116/200\n",
            "2/2 [==============================] - 0s 1ms/step - loss: 1183.4149\n",
            "Epoch 117/200\n",
            "2/2 [==============================] - 0s 2ms/step - loss: 1148.0190\n",
            "Epoch 118/200\n",
            "2/2 [==============================] - 0s 1ms/step - loss: 1112.9700\n",
            "Epoch 119/200\n",
            "2/2 [==============================] - 0s 1ms/step - loss: 1077.8348\n",
            "Epoch 120/200\n",
            "2/2 [==============================] - 0s 1ms/step - loss: 1045.5209\n",
            "Epoch 121/200\n",
            "2/2 [==============================] - 0s 2ms/step - loss: 1013.2801\n",
            "Epoch 122/200\n",
            "2/2 [==============================] - 0s 2ms/step - loss: 980.1221\n",
            "Epoch 123/200\n",
            "2/2 [==============================] - 0s 2ms/step - loss: 950.2076\n",
            "Epoch 124/200\n",
            "2/2 [==============================] - 0s 2ms/step - loss: 919.6608\n",
            "Epoch 125/200\n",
            "2/2 [==============================] - 0s 1ms/step - loss: 890.5139\n",
            "Epoch 126/200\n",
            "2/2 [==============================] - 0s 2ms/step - loss: 863.1311\n",
            "Epoch 127/200\n",
            "2/2 [==============================] - 0s 2ms/step - loss: 835.5458\n",
            "Epoch 128/200\n",
            "2/2 [==============================] - 0s 1ms/step - loss: 807.7576\n",
            "Epoch 129/200\n",
            "2/2 [==============================] - 0s 1ms/step - loss: 782.2489\n",
            "Epoch 130/200\n",
            "2/2 [==============================] - 0s 2ms/step - loss: 756.0542\n",
            "Epoch 131/200\n",
            "2/2 [==============================] - 0s 1ms/step - loss: 733.2484\n",
            "Epoch 132/200\n",
            "2/2 [==============================] - 0s 1ms/step - loss: 708.1771\n",
            "Epoch 133/200\n",
            "2/2 [==============================] - 0s 2ms/step - loss: 685.7341\n",
            "Epoch 134/200\n",
            "2/2 [==============================] - 0s 1ms/step - loss: 663.3634\n",
            "Epoch 135/200\n",
            "2/2 [==============================] - 0s 1ms/step - loss: 641.9022\n",
            "Epoch 136/200\n",
            "2/2 [==============================] - 0s 1ms/step - loss: 619.3135\n",
            "Epoch 137/200\n",
            "2/2 [==============================] - 0s 1ms/step - loss: 598.3901\n",
            "Epoch 138/200\n",
            "2/2 [==============================] - 0s 1ms/step - loss: 578.8463\n",
            "Epoch 139/200\n",
            "2/2 [==============================] - 0s 4ms/step - loss: 560.4205\n",
            "Epoch 140/200\n",
            "2/2 [==============================] - 0s 2ms/step - loss: 541.6768\n",
            "Epoch 141/200\n",
            "2/2 [==============================] - 0s 2ms/step - loss: 521.9285\n",
            "Epoch 142/200\n",
            "2/2 [==============================] - 0s 2ms/step - loss: 506.0854\n",
            "Epoch 143/200\n",
            "2/2 [==============================] - 0s 1ms/step - loss: 487.8078\n",
            "Epoch 144/200\n",
            "2/2 [==============================] - 0s 2ms/step - loss: 471.7717\n",
            "Epoch 145/200\n",
            "2/2 [==============================] - 0s 2ms/step - loss: 454.9017\n",
            "Epoch 146/200\n",
            "2/2 [==============================] - 0s 2ms/step - loss: 439.0777\n",
            "Epoch 147/200\n",
            "2/2 [==============================] - 0s 2ms/step - loss: 424.1118\n",
            "Epoch 148/200\n",
            "2/2 [==============================] - 0s 1ms/step - loss: 409.5170\n",
            "Epoch 149/200\n",
            "2/2 [==============================] - 0s 1ms/step - loss: 395.1084\n",
            "Epoch 150/200\n",
            "2/2 [==============================] - 0s 2ms/step - loss: 381.4425\n",
            "Epoch 151/200\n",
            "2/2 [==============================] - 0s 1ms/step - loss: 368.1298\n",
            "Epoch 152/200\n",
            "2/2 [==============================] - 0s 2ms/step - loss: 355.3353\n",
            "Epoch 153/200\n",
            "2/2 [==============================] - 0s 2ms/step - loss: 342.5568\n",
            "Epoch 154/200\n",
            "2/2 [==============================] - 0s 2ms/step - loss: 330.4169\n",
            "Epoch 155/200\n",
            "2/2 [==============================] - 0s 2ms/step - loss: 318.4953\n",
            "Epoch 156/200\n",
            "2/2 [==============================] - 0s 2ms/step - loss: 306.8304\n",
            "Epoch 157/200\n",
            "2/2 [==============================] - 0s 2ms/step - loss: 296.5556\n",
            "Epoch 158/200\n",
            "2/2 [==============================] - 0s 1ms/step - loss: 285.8007\n",
            "Epoch 159/200\n",
            "2/2 [==============================] - 0s 2ms/step - loss: 275.0809\n",
            "Epoch 160/200\n",
            "2/2 [==============================] - 0s 2ms/step - loss: 265.2397\n",
            "Epoch 161/200\n",
            "2/2 [==============================] - 0s 2ms/step - loss: 255.5553\n",
            "Epoch 162/200\n",
            "2/2 [==============================] - 0s 2ms/step - loss: 246.1524\n",
            "Epoch 163/200\n",
            "2/2 [==============================] - 0s 2ms/step - loss: 237.2267\n",
            "Epoch 164/200\n",
            "2/2 [==============================] - 0s 2ms/step - loss: 228.5878\n",
            "Epoch 165/200\n",
            "2/2 [==============================] - 0s 2ms/step - loss: 220.1208\n",
            "Epoch 166/200\n",
            "2/2 [==============================] - 0s 2ms/step - loss: 212.1311\n",
            "Epoch 167/200\n",
            "2/2 [==============================] - 0s 2ms/step - loss: 204.1815\n",
            "Epoch 168/200\n",
            "2/2 [==============================] - 0s 2ms/step - loss: 196.3275\n",
            "Epoch 169/200\n",
            "2/2 [==============================] - 0s 2ms/step - loss: 189.1526\n",
            "Epoch 170/200\n",
            "2/2 [==============================] - 0s 2ms/step - loss: 182.0261\n",
            "Epoch 171/200\n",
            "2/2 [==============================] - 0s 2ms/step - loss: 175.3439\n",
            "Epoch 172/200\n",
            "2/2 [==============================] - 0s 2ms/step - loss: 168.4287\n",
            "Epoch 173/200\n",
            "2/2 [==============================] - 0s 2ms/step - loss: 162.2649\n",
            "Epoch 174/200\n",
            "2/2 [==============================] - 0s 2ms/step - loss: 156.1479\n",
            "Epoch 175/200\n",
            "2/2 [==============================] - 0s 2ms/step - loss: 150.1155\n",
            "Epoch 176/200\n",
            "2/2 [==============================] - 0s 2ms/step - loss: 144.1030\n",
            "Epoch 177/200\n",
            "2/2 [==============================] - 0s 2ms/step - loss: 138.9265\n",
            "Epoch 178/200\n",
            "2/2 [==============================] - 0s 2ms/step - loss: 133.5359\n",
            "Epoch 179/200\n",
            "2/2 [==============================] - 0s 2ms/step - loss: 128.2567\n",
            "Epoch 180/200\n",
            "2/2 [==============================] - 0s 2ms/step - loss: 123.4088\n",
            "Epoch 181/200\n",
            "2/2 [==============================] - 0s 2ms/step - loss: 118.5903\n",
            "Epoch 182/200\n",
            "2/2 [==============================] - 0s 2ms/step - loss: 113.9057\n",
            "Epoch 183/200\n",
            "2/2 [==============================] - 0s 2ms/step - loss: 109.5717\n",
            "Epoch 184/200\n",
            "2/2 [==============================] - 0s 2ms/step - loss: 105.1696\n",
            "Epoch 185/200\n",
            "2/2 [==============================] - 0s 2ms/step - loss: 100.9643\n",
            "Epoch 186/200\n",
            "2/2 [==============================] - 0s 2ms/step - loss: 97.1328\n",
            "Epoch 187/200\n",
            "2/2 [==============================] - 0s 2ms/step - loss: 93.3961\n",
            "Epoch 188/200\n",
            "2/2 [==============================] - 0s 1ms/step - loss: 89.4192\n",
            "Epoch 189/200\n",
            "2/2 [==============================] - 0s 1ms/step - loss: 86.0293\n",
            "Epoch 190/200\n",
            "2/2 [==============================] - 0s 2ms/step - loss: 82.6216\n",
            "Epoch 191/200\n",
            "2/2 [==============================] - 0s 1ms/step - loss: 79.2854\n",
            "Epoch 192/200\n",
            "2/2 [==============================] - 0s 2ms/step - loss: 76.1070\n",
            "Epoch 193/200\n",
            "2/2 [==============================] - 0s 2ms/step - loss: 73.0810\n",
            "Epoch 194/200\n",
            "2/2 [==============================] - 0s 1ms/step - loss: 70.1273\n",
            "Epoch 195/200\n",
            "2/2 [==============================] - 0s 2ms/step - loss: 67.3784\n",
            "Epoch 196/200\n",
            "2/2 [==============================] - 0s 2ms/step - loss: 64.5041\n",
            "Epoch 197/200\n",
            "2/2 [==============================] - 0s 1ms/step - loss: 61.9369\n",
            "Epoch 198/200\n",
            "2/2 [==============================] - 0s 1ms/step - loss: 59.4473\n",
            "Epoch 199/200\n",
            "2/2 [==============================] - 0s 1ms/step - loss: 57.0904\n",
            "Epoch 200/200\n",
            "2/2 [==============================] - 0s 1ms/step - loss: 54.6676\n"
          ],
          "name": "stdout"
        }
      ]
    },
    {
      "cell_type": "code",
      "metadata": {
        "id": "1RfcFOsF9zB2",
        "colab_type": "code",
        "colab": {
          "base_uri": "https://localhost:8080/",
          "height": 483
        },
        "outputId": "3bd3a19e-96d7-4b7e-c5a6-fc3e88c7b74d"
      },
      "source": [
        "plt.plot(history.history['loss'])\n",
        "plt.show()"
      ],
      "execution_count": null,
      "outputs": [
        {
          "output_type": "display_data",
          "data": {
            "image/png": "[encoded data removed]",
            "text/plain": [
              "<Figure size 1152x576 with 1 Axes>"
            ]
          },
          "metadata": {
            "tags": [],
            "needs_background": "light"
          }
        }
      ]
    },
    {
      "cell_type": "code",
      "metadata": {
        "id": "EfSNtM4_96fz",
        "colab_type": "code",
        "colab": {}
      },
      "source": [
        "prediction = model.predict(x_test)"
      ],
      "execution_count": null,
      "outputs": []
    },
    {
      "cell_type": "code",
      "metadata": {
        "id": "rgDQi3xk-fSB",
        "colab_type": "code",
        "colab": {
          "base_uri": "https://localhost:8080/",
          "height": 483
        },
        "outputId": "bc869ddf-fc38-4d7a-f084-1cb0b273f3b0"
      },
      "source": [
        "plt.scatter(x_train, y_train)\n",
        "plt.plot(x_test, y_test, color='r')\n",
        "plt.show()"
      ],
      "execution_count": null,
      "outputs": [
        {
          "output_type": "display_data",
          "data": {
            "image/png": "[encoded data removed]",
            "text/plain": [
              "<Figure size 1152x576 with 1 Axes>"
            ]
          },
          "metadata": {
            "tags": [],
            "needs_background": "light"
          }
        }
      ]
    },
    {
      "cell_type": "code",
      "metadata": {
        "id": "fcsYGCM2ZFXi",
        "colab_type": "code",
        "colab": {
          "base_uri": "https://localhost:8080/",
          "height": 104
        },
        "outputId": "8c81aa5c-5d8b-4dd9-e38a-0addc66e9579"
      },
      "source": [
        "model.save('.')"
      ],
      "execution_count": null,
      "outputs": [
        {
          "output_type": "stream",
          "text": [
            "WARNING:tensorflow:From /usr/local/lib/python3.6/dist-packages/tensorflow/python/ops/resource_variable_ops.py:1817: calling BaseResourceVariable.__init__ (from tensorflow.python.ops.resource_variable_ops) with constraint is deprecated and will be removed in a future version.\n",
            "Instructions for updating:\n",
            "If using Keras pass *_constraint arguments to layers.\n",
            "INFO:tensorflow:Assets written to: ./assets\n"
          ],
          "name": "stdout"
        }
      ]
    }
  ]
}